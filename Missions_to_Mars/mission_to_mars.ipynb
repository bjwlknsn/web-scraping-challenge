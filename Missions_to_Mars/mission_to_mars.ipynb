{
 "cells": [
  {
   "cell_type": "code",
   "execution_count": 2,
   "metadata": {},
   "outputs": [],
   "source": [
    "import pandas as pd\n",
    "import requests\n",
    "from splinter import Browser\n",
    "from bs4 import BeautifulSoup as bs\n",
    "import time\n",
    "import datetime as dt"
   ]
  },
  {
   "cell_type": "code",
   "execution_count": 3,
   "metadata": {},
   "outputs": [],
   "source": [
    "# Define the the URL\n",
    "url = 'https://mars.nasa.gov/news'\n",
    "\n",
    "# Retrive the page with the requests module\n",
    "response = requests.get(url)\n",
    "\n",
    "# Convert the response to text to obtain the html\n",
    "html = response.text"
   ]
  },
  {
   "cell_type": "code",
   "execution_count": 5,
   "metadata": {},
   "outputs": [],
   "source": [
    "# Establish chrome driver executable path.\n",
    "executable_path ={'executable_path': 'C:/Users/Us/chromedriver.exe'}\n",
    "\n",
    "# Open a splinter browser\n",
    "browser = Browser('chrome', **executable_path, headless=False)"
   ]
  },
  {
   "cell_type": "code",
   "execution_count": 6,
   "metadata": {},
   "outputs": [],
   "source": [
    "# Visit the defined URL on your splinter broswers\n",
    "browser.visit(url)"
   ]
  },
  {
   "cell_type": "code",
   "execution_count": 7,
   "metadata": {},
   "outputs": [],
   "source": [
    "# Create a BeautifulSoup object with the splinter broswer.html object and parse the html with 'html.parser' or 'lxml'\n",
    "soup = bs(browser.html, 'html.parser')"
   ]
  },
  {
   "cell_type": "code",
   "execution_count": 8,
   "metadata": {},
   "outputs": [],
   "source": [
    "# Scrape the first instance of latest news title text and assign to a variable\n",
    "# Find the first article\n",
    "first_news_article = soup.find('li', class_=\"slide\")\n",
    "\n",
    "# Find the title within that article summary and convert into .text or .get_text() and then .strip() of '/n'\n",
    "news_title = first_news_article.find('div', class_='content_title').text.strip()"
   ]
  },
  {
   "cell_type": "code",
   "execution_count": 9,
   "metadata": {},
   "outputs": [
    {
     "data": {
      "text/plain": [
       "\"New Study Challenges Long-Held Theory of Fate of Mars' Water\""
      ]
     },
     "execution_count": 9,
     "metadata": {},
     "output_type": "execute_result"
    }
   ],
   "source": [
    "news_title"
   ]
  },
  {
   "cell_type": "code",
   "execution_count": 10,
   "metadata": {},
   "outputs": [
    {
     "data": {
      "text/plain": [
       "'https://mars.nasa.gov/news/news/8888/new-study-challenges-long-held-theory-of-fate-of-mars-water/'"
      ]
     },
     "execution_count": 10,
     "metadata": {},
     "output_type": "execute_result"
    }
   ],
   "source": [
    "# Save the article link url\n",
    "article_link_string = first_news_article.find('a')['href']\n",
    "article_url = url + article_link_string\n",
    "article_url"
   ]
  },
  {
   "cell_type": "code",
   "execution_count": 11,
   "metadata": {},
   "outputs": [],
   "source": [
    "# Scrape the first instance of latest paragraph text and assign to a variable\n",
    "# Find the paragraph within that article summary and convert into .text and then .strip() of '/n'\n",
    "news_p = first_news_article.find('div', class_=\"article_teaser_body\").text.strip()"
   ]
  },
  {
   "cell_type": "code",
   "execution_count": 12,
   "metadata": {},
   "outputs": [
    {
     "data": {
      "text/plain": [
       "'The new science results indicate that a large quantity of the Red Planet’s water is trapped in its crust rather than having escaped into space.'"
      ]
     },
     "execution_count": 12,
     "metadata": {},
     "output_type": "execute_result"
    }
   ],
   "source": [
    "news_p"
   ]
  },
  {
   "cell_type": "code",
   "execution_count": 21,
   "metadata": {},
   "outputs": [],
   "source": [
    "# Open a splinter browser to scrape the desired images\n",
    "# Define the URL path\n",
    "image_url = 'https://www.jpl.nasa.gov/spaceimages/?search=&category=Mars'\n",
    "\n",
    "# Using the already established splinter engine, open the url in broswer\n",
    "# Visit the defined URL on your splinter broswers\n",
    "browser.visit(image_url)\n",
    "\n",
    "# delay action until browser loads\n",
    "time.sleep(2)\n",
    "\n",
    "# click on the sprinter browser link 'BaseImage' to see the image we want to store\n",
    "browser.find_by_css('img.BaseImage').click()\n",
    "time.sleep(2)"
   ]
  },
  {
   "cell_type": "code",
   "execution_count": 24,
   "metadata": {},
   "outputs": [],
   "source": [
    "html=browser.html\n",
    "soup=bs(html, 'html.parser')\n",
    "\n",
    "featured_image_url=soup.find('a', class_='BaseButton')['href']"
   ]
  },
  {
   "cell_type": "code",
   "execution_count": 25,
   "metadata": {},
   "outputs": [
    {
     "data": {
      "text/plain": [
       "'https://d2pn8kiwq2w21t.cloudfront.net/original_images/jpegPIA24466.jpg'"
      ]
     },
     "execution_count": 25,
     "metadata": {},
     "output_type": "execute_result"
    }
   ],
   "source": [
    "featured_image_url"
   ]
  },
  {
   "cell_type": "code",
   "execution_count": 26,
   "metadata": {},
   "outputs": [],
   "source": [
    "# # Scrape the web page for the image URL\n",
    "# # First save the root webpage URL to add to the image source ('img src')\n",
    "# jpl_url = 'https://www.jpl.nasa.gov'\n",
    "\n",
    "# # Soupify the browser html\n",
    "# soup = bs(browser.html, 'html.parser')\n",
    "\n",
    "# # Locate the 'div' and class attribute where the image is found and \n",
    "# image_soup = soup.find('div', class_='fancybox-inner')\n",
    "\n",
    "# # Isolate the image url image source string by .find() and calling the ['src']\n",
    "# image_url_string = image_soup.find('img')['src']\n",
    "\n",
    "# # Assign the string compound image url to a variable\n",
    "# featured_image_url = jpl_url + image_url_string\n",
    "# print(featured_image_url)"
   ]
  },
  {
   "cell_type": "code",
   "execution_count": 34,
   "metadata": {},
   "outputs": [
    {
     "data": {
      "text/html": [
       "<div>\n",
       "<style scoped>\n",
       "    .dataframe tbody tr th:only-of-type {\n",
       "        vertical-align: middle;\n",
       "    }\n",
       "\n",
       "    .dataframe tbody tr th {\n",
       "        vertical-align: top;\n",
       "    }\n",
       "\n",
       "    .dataframe thead th {\n",
       "        text-align: right;\n",
       "    }\n",
       "</style>\n",
       "<table border=\"1\" class=\"dataframe\">\n",
       "  <thead>\n",
       "    <tr style=\"text-align: right;\">\n",
       "      <th></th>\n",
       "      <th>Value</th>\n",
       "    </tr>\n",
       "    <tr>\n",
       "      <th>Attribute</th>\n",
       "      <th></th>\n",
       "    </tr>\n",
       "  </thead>\n",
       "  <tbody>\n",
       "    <tr>\n",
       "      <th>Equatorial Diameter:</th>\n",
       "      <td>6,792 km</td>\n",
       "    </tr>\n",
       "    <tr>\n",
       "      <th>Polar Diameter:</th>\n",
       "      <td>6,752 km</td>\n",
       "    </tr>\n",
       "    <tr>\n",
       "      <th>Mass:</th>\n",
       "      <td>6.39 × 10^23 kg (0.11 Earths)</td>\n",
       "    </tr>\n",
       "    <tr>\n",
       "      <th>Moons:</th>\n",
       "      <td>2 (Phobos &amp; Deimos)</td>\n",
       "    </tr>\n",
       "    <tr>\n",
       "      <th>Orbit Distance:</th>\n",
       "      <td>227,943,824 km (1.38 AU)</td>\n",
       "    </tr>\n",
       "    <tr>\n",
       "      <th>Orbit Period:</th>\n",
       "      <td>687 days (1.9 years)</td>\n",
       "    </tr>\n",
       "    <tr>\n",
       "      <th>Surface Temperature:</th>\n",
       "      <td>-87 to -5 °C</td>\n",
       "    </tr>\n",
       "    <tr>\n",
       "      <th>First Record:</th>\n",
       "      <td>2nd millennium BC</td>\n",
       "    </tr>\n",
       "    <tr>\n",
       "      <th>Recorded By:</th>\n",
       "      <td>Egyptian astronomers</td>\n",
       "    </tr>\n",
       "  </tbody>\n",
       "</table>\n",
       "</div>"
      ],
      "text/plain": [
       "                                              Value\n",
       "Attribute                                          \n",
       "Equatorial Diameter:                       6,792 km\n",
       "Polar Diameter:                            6,752 km\n",
       "Mass:                 6.39 × 10^23 kg (0.11 Earths)\n",
       "Moons:                          2 (Phobos & Deimos)\n",
       "Orbit Distance:            227,943,824 km (1.38 AU)\n",
       "Orbit Period:                  687 days (1.9 years)\n",
       "Surface Temperature:                   -87 to -5 °C\n",
       "First Record:                     2nd millennium BC\n",
       "Recorded By:                   Egyptian astronomers"
      ]
     },
     "execution_count": 34,
     "metadata": {},
     "output_type": "execute_result"
    }
   ],
   "source": [
    "# We will use Pandas to scrape the table information from the space-fact.com website on Mars\n",
    "# Define the url\n",
    "facts_url = 'https://space-facts.com/mars/'\n",
    "\n",
    "# Using pd.read_html() will pull a list dataframes of all the tables\n",
    "tables = pd.read_html(facts_url)\n",
    "\n",
    "# We want to slice off the 1st table from the list\n",
    "mars_facts_tbl = tables[0]\n",
    "\n",
    "# Name the columns\n",
    "mars_facts_tbl.columns = ['Attribute', 'Value']\n",
    "\n",
    "# Set the index to the Atrributes column\n",
    "mars_facts_tbl.set_index('Attribute', inplace=True)\n",
    "mars_facts_tbl"
   ]
  },
  {
   "cell_type": "code",
   "execution_count": 35,
   "metadata": {},
   "outputs": [
    {
     "data": {
      "text/plain": [
       "'<table border=\"1\" class=\"dataframe\">\\n  <thead>\\n    <tr style=\"text-align: right;\">\\n      <th></th>\\n      <th>Value</th>\\n    </tr>\\n    <tr>\\n      <th>Attribute</th>\\n      <th></th>\\n    </tr>\\n  </thead>\\n  <tbody>\\n    <tr>\\n      <th>Equatorial Diameter:</th>\\n      <td>6,792 km</td>\\n    </tr>\\n    <tr>\\n      <th>Polar Diameter:</th>\\n      <td>6,752 km</td>\\n    </tr>\\n    <tr>\\n      <th>Mass:</th>\\n      <td>6.39 × 10^23 kg (0.11 Earths)</td>\\n    </tr>\\n    <tr>\\n      <th>Moons:</th>\\n      <td>2 (Phobos &amp; Deimos)</td>\\n    </tr>\\n    <tr>\\n      <th>Orbit Distance:</th>\\n      <td>227,943,824 km (1.38 AU)</td>\\n    </tr>\\n    <tr>\\n      <th>Orbit Period:</th>\\n      <td>687 days (1.9 years)</td>\\n    </tr>\\n    <tr>\\n      <th>Surface Temperature:</th>\\n      <td>-87 to -5 °C</td>\\n    </tr>\\n    <tr>\\n      <th>First Record:</th>\\n      <td>2nd millennium BC</td>\\n    </tr>\\n    <tr>\\n      <th>Recorded By:</th>\\n      <td>Egyptian astronomers</td>\\n    </tr>\\n  </tbody>\\n</table>'"
      ]
     },
     "execution_count": 35,
     "metadata": {},
     "output_type": "execute_result"
    }
   ],
   "source": [
    "# Convert the pandas dataframe table into html using .to_html()\n",
    "html_mars_tbl = mars_facts_tbl.to_html()\n",
    "html_mars_tbl"
   ]
  },
  {
   "cell_type": "code",
   "execution_count": 39,
   "metadata": {},
   "outputs": [],
   "source": [
    "# Visit the USGS Astrogeology site to obtain high resolution images for each of Mar's hemispheres.\n",
    "# Define URL\n",
    "astro_url = 'https://astrogeology.usgs.gov/search/results?q=hemisphere+enhanced&k1=target&v1=Mars'\n",
    "root_usgs_url = 'https://astrogeology.usgs.gov/'\n",
    "\n",
    "# Use splinter browser to open url site\n",
    "browser.visit(astro_url)\n",
    "\n",
    "#soupify\n",
    "soup = bs(browser.html, 'html.parser')"
   ]
  },
  {
   "cell_type": "code",
   "execution_count": 40,
   "metadata": {},
   "outputs": [
    {
     "name": "stdout",
     "output_type": "stream",
     "text": [
      "Scrape of Cerberus Hemisphere Enhanced COMPLETE\n",
      "Scrape of Schiaparelli Hemisphere Enhanced COMPLETE\n",
      "Scrape of Syrtis Major Hemisphere Enhanced COMPLETE\n",
      "Scrape of Valles Marineris Hemisphere Enhanced COMPLETE\n"
     ]
    }
   ],
   "source": [
    "# Create an empty list to store dictonary values for the keys of 'image_url' and 'title'\n",
    "hemisphere_image_list = []\n",
    "\n",
    "# Use .find_all() to slice out the html and loop through to visit different webpages and scrape the data\n",
    "image_links = soup.find_all('div', class_='item')\n",
    "\n",
    "# Start the for loop\n",
    "for item in image_links:\n",
    "    \n",
    "    # Find the url link string from the 'a' tag and call the 'href' string\n",
    "    link = item.find('a')['href']\n",
    "    \n",
    "    # Combine the root url from above and the link url\n",
    "    combo_url = root_usgs_url + link\n",
    "    \n",
    "    # Open the splinter browser using the combo_url link just created\n",
    "    browser.visit(combo_url)\n",
    "    \n",
    "    # Let the browser load for 1 seconds before scraping data\n",
    "    time.sleep(1)\n",
    "    \n",
    "    # Soupify the page\n",
    "    soup = bs(browser.html, 'html.parser')\n",
    "    \n",
    "    # Find the link to the image in the 'ul' tag, then the 'a' tag, and then call the 2nd item 'href'\n",
    "    # Store link string in variable 'image_link_hemi'\n",
    "    image_link_hemi = soup.find('ul').find_all('a')[0]['href']\n",
    "    \n",
    "    # Find the title name using the 'h2' tag and class attribute 'title', and then pull the .text\n",
    "    # Store title in variable 'title_text'\n",
    "    title_text = soup.find('h2', class_='title').text\n",
    "    \n",
    "    # Append the hemisphere list with a dictionary of the keys and values\n",
    "    hemisphere_image_list.append({\n",
    "        'title': title_text, \n",
    "        'img_url': image_link_hemi\n",
    "    })\n",
    "    \n",
    "    # Print out success message\n",
    "    print(f'Scrape of {title_text} COMPLETE')\n",
    "    time.sleep(1)"
   ]
  },
  {
   "cell_type": "code",
   "execution_count": 41,
   "metadata": {},
   "outputs": [
    {
     "data": {
      "text/plain": [
       "[{'title': 'Cerberus Hemisphere Enhanced',\n",
       "  'img_url': 'https://astropedia.astrogeology.usgs.gov/download/Mars/Viking/cerberus_enhanced.tif/full.jpg'},\n",
       " {'title': 'Schiaparelli Hemisphere Enhanced',\n",
       "  'img_url': 'https://astropedia.astrogeology.usgs.gov/download/Mars/Viking/schiaparelli_enhanced.tif/full.jpg'},\n",
       " {'title': 'Syrtis Major Hemisphere Enhanced',\n",
       "  'img_url': 'https://astropedia.astrogeology.usgs.gov/download/Mars/Viking/syrtis_major_enhanced.tif/full.jpg'},\n",
       " {'title': 'Valles Marineris Hemisphere Enhanced',\n",
       "  'img_url': 'https://astropedia.astrogeology.usgs.gov/download/Mars/Viking/valles_marineris_enhanced.tif/full.jpg'}]"
      ]
     },
     "execution_count": 41,
     "metadata": {},
     "output_type": "execute_result"
    }
   ],
   "source": [
    "# Check to see if data is all there\n",
    "hemisphere_image_list"
   ]
  },
  {
   "cell_type": "code",
   "execution_count": 42,
   "metadata": {},
   "outputs": [],
   "source": [
    "# Create a dictionary of all the web scraped data\n",
    "dict_mars_scrape = {\n",
    "    'news_title': news_title,\n",
    "    'news_p': news_p,\n",
    "    'article_url': article_url,\n",
    "    'featured_image_url': featured_image_url,\n",
    "    'html_mars_tbl': html_mars_tbl,\n",
    "    'hemisphere_image_list': hemisphere_image_list,\n",
    "    # Add the time of the scrape to the dictionary\n",
    "    'scrape_time': dt.datetime.now()\n",
    "}"
   ]
  },
  {
   "cell_type": "code",
   "execution_count": 33,
   "metadata": {},
   "outputs": [
    {
     "data": {
      "text/plain": [
       "{'news_title': \"New Study Challenges Long-Held Theory of Fate of Mars' Water\",\n",
       " 'news_p': 'The new science results indicate that a large quantity of the Red Planet’s water is trapped in its crust rather than having escaped into space.',\n",
       " 'article_url': 'https://mars.nasa.gov/news/news/8888/new-study-challenges-long-held-theory-of-fate-of-mars-water/',\n",
       " 'featured_image_url': 'https://d2pn8kiwq2w21t.cloudfront.net/original_images/jpegPIA24466.jpg',\n",
       " 'html_mars_tbl': '<table border=\"1\" class=\"dataframe\">\\n  <thead>\\n    <tr style=\"text-align: right;\">\\n      <th></th>\\n      <th>Value</th>\\n    </tr>\\n    <tr>\\n      <th>Attribute</th>\\n      <th></th>\\n    </tr>\\n  </thead>\\n  <tbody>\\n    <tr>\\n      <th>Equatorial Diameter:</th>\\n      <td>6,792 km</td>\\n    </tr>\\n    <tr>\\n      <th>Polar Diameter:</th>\\n      <td>6,752 km</td>\\n    </tr>\\n    <tr>\\n      <th>Mass:</th>\\n      <td>6.39 × 10^23 kg (0.11 Earths)</td>\\n    </tr>\\n    <tr>\\n      <th>Moons:</th>\\n      <td>2 (Phobos &amp; Deimos)</td>\\n    </tr>\\n    <tr>\\n      <th>Orbit Distance:</th>\\n      <td>227,943,824 km (1.38 AU)</td>\\n    </tr>\\n    <tr>\\n      <th>Orbit Period:</th>\\n      <td>687 days (1.9 years)</td>\\n    </tr>\\n    <tr>\\n      <th>Surface Temperature:</th>\\n      <td>-87 to -5 °C</td>\\n    </tr>\\n    <tr>\\n      <th>First Record:</th>\\n      <td>2nd millennium BC</td>\\n    </tr>\\n    <tr>\\n      <th>Recorded By:</th>\\n      <td>Egyptian astronomers</td>\\n    </tr>\\n  </tbody>\\n</table>',\n",
       " 'hemisphere_image_list': [{'title': 'Cerberus Hemisphere Enhanced',\n",
       "   'img_url': 'https://astropedia.astrogeology.usgs.gov/download/Mars/Viking/cerberus_enhanced.tif/full.jpg'},\n",
       "  {'title': 'Schiaparelli Hemisphere Enhanced',\n",
       "   'img_url': 'https://astropedia.astrogeology.usgs.gov/download/Mars/Viking/schiaparelli_enhanced.tif/full.jpg'},\n",
       "  {'title': 'Syrtis Major Hemisphere Enhanced',\n",
       "   'img_url': 'https://astropedia.astrogeology.usgs.gov/download/Mars/Viking/syrtis_major_enhanced.tif/full.jpg'},\n",
       "  {'title': 'Valles Marineris Hemisphere Enhanced',\n",
       "   'img_url': 'https://astropedia.astrogeology.usgs.gov/download/Mars/Viking/valles_marineris_enhanced.tif/full.jpg'}],\n",
       " 'scrape_time': datetime.datetime(2021, 3, 16, 21, 4, 8, 395237)}"
      ]
     },
     "execution_count": 33,
     "metadata": {},
     "output_type": "execute_result"
    }
   ],
   "source": [
    "dict_mars_scrape"
   ]
  },
  {
   "cell_type": "code",
   "execution_count": null,
   "metadata": {},
   "outputs": [],
   "source": []
  }
 ],
 "metadata": {
  "kernelspec": {
   "display_name": "Python 3",
   "language": "python",
   "name": "python3"
  },
  "language_info": {
   "codemirror_mode": {
    "name": "ipython",
    "version": 3
   },
   "file_extension": ".py",
   "mimetype": "text/x-python",
   "name": "python",
   "nbconvert_exporter": "python",
   "pygments_lexer": "ipython3",
   "version": "3.8.5"
  }
 },
 "nbformat": 4,
 "nbformat_minor": 4
}
